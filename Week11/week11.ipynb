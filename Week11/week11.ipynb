{
 "cells": [
  {
   "cell_type": "code",
   "execution_count": null,
   "metadata": {},
   "outputs": [],
   "source": [
    "import numpy as np\n",
    "from matplotlib import pyplot as plt\n",
    "pi = np.pi\n",
    "sin = np.sin\n",
    "cos = np.cos\n",
    "log = np.log\n",
    "\n",
    "def GLCG(x0):\n",
    "    a,b,m = 625,6571,31104\n",
    "    while True:\n",
    "        x0 = (a*x0+b)%m\n",
    "        yield x0/m\n",
    "\n",
    "glcg = GLCG(69)\n",
    "\n",
    "def U(a,b):\n",
    "    return a+(b-a)*next(glcg)"
   ]
  },
  {
   "cell_type": "markdown",
   "metadata": {},
   "source": [
    "# Yeah no I skipped this one too lmao"
   ]
  }
 ],
 "metadata": {
  "kernelspec": {
   "display_name": "Python 3",
   "language": "python",
   "name": "python3"
  },
  "language_info": {
   "name": "python",
   "version": "3.11.1"
  }
 },
 "nbformat": 4,
 "nbformat_minor": 2
}
