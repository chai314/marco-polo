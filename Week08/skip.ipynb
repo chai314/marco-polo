{
 "cells": [
  {
   "cell_type": "markdown",
   "metadata": {},
   "source": [
    "## Yeah no I skipped this one lmao.\n",
    "If this is any consolation:\n",
    "\n",
    "## 1. Stratification\n",
    "For Q3\n",
    "- Based on the fact that instead of uniform generation over Domain, variance can be reduced by generating over a properly picked partition\n",
    "- Here, partition $\\{1,2,3,4,5\\}$ into $\\{1\\},\\{2\\},\\{3\\},\\{4\\},\\{5\\}$\n",
    "- For $n=100$ generate 19 points for $N\\in\\{1\\}\\text{ i.e }N=1$, 26 points for $N=2$, 24 points for $N=3$, 17 points for $N=4$, 14 points for $N=5$\n",
    "- Repeat for $n=10000$ in that ratio\n",
    "## 2. Conditioning\n",
    "- Based on $E_{Y}[E[X|Y]]=E[X]$\n",
    "- Want $P(X>1)$ but probabilities are just expectations (here, $E[\\mathbf{1}_{X>1}]$)\n",
    "- In $E[X|Y]$ replace X with $\\mathbf{1}_{X>1}$, so we want $E_{Y}[P(X>1|Y=y)]$\n",
    "- Find $E_Y[...]$ by simple Monte Carlo.\n",
    "    - The \"...\" part: work out the integral by hand and get a function of y\n",
    "    - The Monte Carlo part: generate Ys and average.\n",
    "## 3. Control Variate\n",
    "- Based on $EX = E[X+c(Y-EY)]$ for any $c$, any $Y$.\n",
    "- $c \\stackrel{\\text{set}}{=} -\\rho(X,Y)\\frac{\\sigma(X)}{\\sigma(Y)}$\n",
    "    - (minimizes variance, check it)"
   ]
  }
 ],
 "metadata": {
  "language_info": {
   "name": "python"
  }
 },
 "nbformat": 4,
 "nbformat_minor": 2
}
