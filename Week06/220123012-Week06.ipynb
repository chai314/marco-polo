{
 "cells": [
  {
   "cell_type": "code",
   "execution_count": 6,
   "id": "12a4ea81",
   "metadata": {},
   "outputs": [],
   "source": [
    "import numpy as np\n",
    "from matplotlib import pyplot as plt\n",
    "from scipy.integrate import quad as integrate\n",
    "pi = np.pi\n",
    "exp = np.exp\n",
    "sin = np.sin\n",
    "cos = np.cos\n",
    "log = np.log"
   ]
  },
  {
   "cell_type": "code",
   "execution_count": 2,
   "id": "501e1c0e",
   "metadata": {},
   "outputs": [],
   "source": [
    "def mean(X):\n",
    "    return sum(X)/len(X)\n",
    "def var(X):\n",
    "    m = mean(X)\n",
    "    return sum((x-m)**2 for x in X)/len(X)"
   ]
  },
  {
   "cell_type": "code",
   "execution_count": 3,
   "id": "188856e6",
   "metadata": {},
   "outputs": [],
   "source": [
    "def GLCG(x0):\n",
    "    a,b,m = 625,6571,31104\n",
    "    while True:\n",
    "        x0 = (a*x0+b)%m\n",
    "        yield x0/m\n",
    "\n",
    "glcg = GLCG(69)\n",
    "\n",
    "def U(a,b):\n",
    "    return a+(b-a)*next(glcg)"
   ]
  },
  {
   "cell_type": "code",
   "execution_count": 32,
   "id": "37923d27",
   "metadata": {},
   "outputs": [],
   "source": [
    "inf = float('inf')\n",
    "f = lambda x: exp(x**0.5)\n",
    "phi = lambda x: 1/(2*pi)**0.5 * exp(-0.5*x*x)\n",
    "PHI = lambda x: integrate(phi,-100,x)[0]"
   ]
  },
  {
   "cell_type": "code",
   "execution_count": null,
   "id": "79210165",
   "metadata": {},
   "outputs": [],
   "source": []
  },
  {
   "cell_type": "markdown",
   "id": "f70cb9a6",
   "metadata": {},
   "source": [
    "## Task 1"
   ]
  },
  {
   "cell_type": "markdown",
   "id": "49a98e5b",
   "metadata": {},
   "source": [
    "### Given that $$I_m = \\frac{1}{M}\\sum_{i=1}^{M}Y_i = \\frac{1}{M}\\sum_{i=1}^{M}e^{\\sqrt{U_i}}$$\n",
    "\n",
    "Estimated value of 95% interval should satisfy $2\\Phi(\\Delta\\hat  I)-1=0.95$\n",
    "Which gives $$\\Delta \\hat I=\\Phi^{-1}(0.975)=1.96$$\n",
    "and $$\\hat I=(\\hat\\mu_n - 1.96\\frac{s_n}{\\sqrt n},\\hat\\mu_n + 1.96\\frac{s_n}{\\sqrt n})$$\n",
    "where $s_n = \\sqrt{\\frac{1}{n-1}\\sum_{i=0}^{n}(Y_i-\\hat\\mu_n)^2}$\n",
    "\n",
    "## True confidence interval\n",
    "Instead of $$\\hat I=(\\hat\\mu_n - 1.96\\frac{s_n}{\\sqrt n},\\hat\\mu_n + 1.96\\frac{s_n}{\\sqrt n})$$\n",
    "We have $$I=(\\mu_n - 1.96\\frac{\\sigma}{\\sqrt n},\\mu + 1.96\\frac{\\sigma}{\\sqrt n})$$"
   ]
  },
  {
   "cell_type": "code",
   "execution_count": 69,
   "id": "fd007978",
   "metadata": {},
   "outputs": [
    {
     "name": "stdout",
     "output_type": "stream",
     "text": [
      "For M = 100\n",
      "The estimated interval is (1.9241405609198594,2.0778349995044945)\n",
      "The true interval is (1.9135535451955386,2.086446454804462)\n",
      "\n",
      "For M = 1000\n",
      "The estimated interval is (1.9621291043084554,2.01770982497733)\n",
      "The true interval is (1.97266323071711,2.0273367692828907)\n",
      "\n",
      "For M = 10000\n",
      "The estimated interval is (1.9924164716204793,2.0097084766796263)\n",
      "The true interval is (1.9913553545195544,2.0086446454804467)\n",
      "\n",
      "For M = 100000\n",
      "The estimated interval is (1.9973380939832968,2.002805425002423)\n",
      "The true interval is (1.9972663230717114,2.0027336769282895)\n",
      "\n"
     ]
    }
   ],
   "source": [
    "Ms = (100,1000,10000,100000)\n",
    "Ys = [f(U(0,1))]\n",
    "mu = Ys[0]\n",
    "S = 0\n",
    "\n",
    "# True values\n",
    "Mu  = integrate(lambda x: 1*f(x), 0, 1)[0]\n",
    "Var = integrate(lambda x: 1*f(x)**2, 0, 1)[0] - Mu**2\n",
    "Sig = Var**0.5\n",
    "\n",
    "\n",
    "for i in range(2,10**5+1):\n",
    "    y = f(U(0,1))\n",
    "    delta = y-mu\n",
    "    mu += delta/i\n",
    "    S += (i-1)/i*delta**2\n",
    "    Ys.append(y)\n",
    "    if i in Ms:\n",
    "        print(f\"For M = {i}\")\n",
    "        s = (S/(i-1))**0.5\n",
    "        sigma = (S/i)**0.5\n",
    "        print(f\"The estimated interval is ({mu-1.96*s/i**0.5},{mu+1.96*s/i**0.5})\")\n",
    "        print(f\"The true interval is ({Mu-1.96*Sig/i**0.5},{Mu+1.96*Sig/i**0.5})\\n\")\n",
    "        \n",
    "        "
   ]
  },
  {
   "cell_type": "markdown",
   "id": "05e37f6b",
   "metadata": {},
   "source": [
    "## Observations"
   ]
  },
  {
   "cell_type": "markdown",
   "id": "86ea60ce",
   "metadata": {},
   "source": [
    "The estimated confidence intervals shrink around the mean. Of course, because the Standard Error estimator $s_n$ converges but $\\sqrt n$ in the denominator kills it to zero. \n",
    "\n",
    "The true confidence intervals are also noted to converge to the same value as $n$ grows, because $s_n \\rightarrow \\sigma$ and $\\hat \\mu_n \\rightarrow \\mu$ as $n \\rightarrow\\infty$"
   ]
  }
 ],
 "metadata": {
  "kernelspec": {
   "display_name": "Python 3 (ipykernel)",
   "language": "python",
   "name": "python3"
  },
  "language_info": {
   "codemirror_mode": {
    "name": "ipython",
    "version": 3
   },
   "file_extension": ".py",
   "mimetype": "text/x-python",
   "name": "python",
   "nbconvert_exporter": "python",
   "pygments_lexer": "ipython3",
   "version": "3.11.3"
  }
 },
 "nbformat": 4,
 "nbformat_minor": 5
}
